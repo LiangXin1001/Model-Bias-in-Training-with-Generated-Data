{
 "cells": [
  {
   "cell_type": "markdown",
   "metadata": {},
   "source": [
    "将训练集数据整理为以类划分的数据集，读取 train.csv 文件并创建一个新的数据集文件夹，其中每个类别都有自己的子文件夹"
   ]
  },
  {
   "cell_type": "code",
   "execution_count": 4,
   "metadata": {},
   "outputs": [
    {
     "name": "stdout",
     "output_type": "stream",
     "text": [
      "图片已成功组织到新的类别文件夹中。\n"
     ]
    }
   ],
   "source": [
    "import os\n",
    "import shutil\n",
    "import pandas as pd\n",
    "\n",
    "# 定义路径\n",
    "csv_file = '/root/autodl-tmp/xin/Model-Bias-in-Training-with-Generated-Data/Dataset/train_labels.csv'\n",
    "images_path = '/root/autodl-tmp/xin/Model-Bias-in-Training-with-Generated-Data/Dataset/Colored_MNIST_Bais'\n",
    "target_base_path = '/root/autodl-tmp/xin/Model-Bias-in-Training-with-Generated-Data/Dataset/Colored_MNIST_Bais_Organized'\n",
    "\n",
    "# 创建目标文件夹\n",
    "if not os.path.exists(target_base_path):\n",
    "    os.makedirs(target_base_path)\n",
    "\n",
    "# 读取CSV文件\n",
    "data = pd.read_csv(csv_file)\n",
    "\n",
    "# 创建类别文件夹并移动文件\n",
    "for index, row in data.iterrows():\n",
    "    label = row['label']\n",
    "    image_name = row['image_name']\n",
    "    \n",
    "    # 创建类别文件夹\n",
    "    target_folder = os.path.join(target_base_path, str(label))\n",
    "    if not os.path.exists(target_folder):\n",
    "        os.makedirs(target_folder)\n",
    "    \n",
    "    # 原始图片路径\n",
    "    src_image_path = os.path.join(images_path, image_name)\n",
    "    \n",
    "    # 目标图片路径\n",
    "    dst_image_path = os.path.join(target_folder, image_name)\n",
    "    \n",
    "    # 移动图片\n",
    "    shutil.copy(src_image_path, dst_image_path)\n",
    "\n",
    "print(\"图片已成功组织到新的类别文件夹中。\")\n"
   ]
  },
  {
   "cell_type": "code",
   "execution_count": 3,
   "metadata": {},
   "outputs": [
    {
     "name": "stdout",
     "output_type": "stream",
     "text": [
      "图片已成功复制回源文件夹。\n"
     ]
    }
   ],
   "source": [
    "import os\n",
    "import shutil\n",
    "\n",
    "# 定义路径\n",
    "target_base_path = '/root/autodl-tmp/xin/Model-Bias-in-Training-with-Generated-Data/Dataset/Colored_MNIST_Bais_Organized'\n",
    "images_path = '/root/autodl-tmp/xin/Model-Bias-in-Training-with-Generated-Data/Dataset/Colored_MNIST_Bais'\n",
    "\n",
    "# 遍历目标文件夹中的所有图片\n",
    "for root, dirs, files in os.walk(target_base_path):\n",
    "    for file in files:\n",
    "        if file.endswith('.png'):  # 确保只处理图片文件\n",
    "            src_image_path = os.path.join(root, file)\n",
    "            dst_image_path = os.path.join(images_path, file)\n",
    "            \n",
    "            # 复制图片回源文件夹\n",
    "            shutil.copy(src_image_path, dst_image_path)\n",
    "\n",
    "print(\"图片已成功复制回源文件夹。\")\n"
   ]
  },
  {
   "cell_type": "markdown",
   "metadata": {},
   "source": [
    "查看颜色通道的std mean"
   ]
  },
  {
   "cell_type": "code",
   "execution_count": 2,
   "metadata": {},
   "outputs": [
    {
     "name": "stdout",
     "output_type": "stream",
     "text": [
      "Mean: tensor([0.0926, 0.0793, 0.0775])\n",
      "Std: tensor([0.1854, 0.1746, 0.1583])\n"
     ]
    }
   ],
   "source": [
    "from torchvision import datasets, transforms\n",
    "from torch.utils.data import DataLoader\n",
    "import numpy as np\n",
    "\n",
    "# 数据加载器\n",
    "dataset = datasets.ImageFolder(root='/root/autodl-tmp/xin/datasets/CMNIST/data/train', transform=transforms.ToTensor())\n",
    "loader = DataLoader(dataset, batch_size=64, shuffle=False, num_workers=4)\n",
    "\n",
    "# 计算均值和标准差\n",
    "mean = 0.\n",
    "std = 0.\n",
    "n_samples = 0.\n",
    "\n",
    "for images, _ in loader:\n",
    "    batch_samples = images.size(0)  # batch size (current)\n",
    "    images = images.view(batch_samples, images.size(1), -1)\n",
    "    mean += images.mean(2).sum(0)\n",
    "    std += images.std(2).sum(0)\n",
    "    n_samples += batch_samples\n",
    "\n",
    "mean /= n_samples\n",
    "std /= n_samples\n",
    "\n",
    "print(f'Mean: {mean}')\n",
    "print(f'Std: {std}')\n"
   ]
  }
 ],
 "metadata": {
  "kernelspec": {
   "display_name": "base",
   "language": "python",
   "name": "python3"
  },
  "language_info": {
   "codemirror_mode": {
    "name": "ipython",
    "version": 3
   },
   "file_extension": ".py",
   "mimetype": "text/x-python",
   "name": "python",
   "nbconvert_exporter": "python",
   "pygments_lexer": "ipython3",
   "version": "3.10.8"
  }
 },
 "nbformat": 4,
 "nbformat_minor": 2
}
